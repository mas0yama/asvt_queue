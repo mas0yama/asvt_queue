{
 "cells": [
  {
   "cell_type": "code",
   "execution_count": 6,
   "id": "2b6ca892",
   "metadata": {},
   "outputs": [
    {
     "name": "stderr",
     "output_type": "stream",
     "text": [
      "2024-11-13 16:20:24.811054: I external/local_xla/xla/tsl/cuda/cudart_stub.cc:32] Could not find cuda drivers on your machine, GPU will not be used.\n",
      "2024-11-13 16:20:33.969865: I external/local_xla/xla/tsl/cuda/cudart_stub.cc:32] Could not find cuda drivers on your machine, GPU will not be used.\n",
      "2024-11-13 16:20:33.999996: E external/local_xla/xla/stream_executor/cuda/cuda_fft.cc:477] Unable to register cuFFT factory: Attempting to register factory for plugin cuFFT when one has already been registered\n",
      "WARNING: All log messages before absl::InitializeLog() is called are written to STDERR\n",
      "E0000 00:00:1731504034.043025   58605 cuda_dnn.cc:8310] Unable to register cuDNN factory: Attempting to register factory for plugin cuDNN when one has already been registered\n",
      "E0000 00:00:1731504034.049613   58605 cuda_blas.cc:1418] Unable to register cuBLAS factory: Attempting to register factory for plugin cuBLAS when one has already been registered\n",
      "2024-11-13 16:20:34.073302: I tensorflow/core/platform/cpu_feature_guard.cc:210] This TensorFlow binary is optimized to use available CPU instructions in performance-critical operations.\n",
      "To enable the following instructions: AVX2 FMA, in other operations, rebuild TensorFlow with the appropriate compiler flags.\n"
     ]
    },
    {
     "name": "stdout",
     "output_type": "stream",
     "text": [
      "24-11-13 16:20:38 - Directory /home/ekaterina/.deepface has been created\n",
      "24-11-13 16:20:38 - Directory /home/ekaterina/.deepface/weights has been created\n"
     ]
    }
   ],
   "source": [
    "!pip install deepface\n",
    "\n",
    "\n"
   ]
  },
  {
   "cell_type": "code",
   "execution_count": null,
   "id": "8c0f4304",
   "metadata": {},
   "outputs": [],
   "source": [
    "from deepface import DeepFace"
   ]
  },
  {
   "cell_type": "code",
   "execution_count": 8,
   "id": "61a477c2",
   "metadata": {},
   "outputs": [
    {
     "name": "stderr",
     "output_type": "stream",
     "text": [
      "Action: race: 100%|███████████████████████████████| 4/4 [00:01<00:00,  3.44it/s]"
     ]
    },
    {
     "name": "stdout",
     "output_type": "stream",
     "text": [
      "[{'emotion': {'angry': 1.2798271141946316, 'disgust': 5.755509491223165e-06, 'fear': 1.2686528265476227, 'happy': 0.03621227806434035, 'sad': 5.910789221525192, 'surprise': 0.0012176399650343228, 'neutral': 91.50329828262329}, 'dominant_emotion': 'neutral', 'region': {'x': 244, 'y': 401, 'w': 501, 'h': 501, 'left_eye': (579, 591), 'right_eye': (396, 602)}, 'face_confidence': 0.94, 'age': 27, 'gender': {'Woman': 99.41476583480835, 'Man': 0.5852320697158575}, 'dominant_gender': 'Woman', 'race': {'asian': 6.408916366357209e-10, 'indian': 2.289072523111585e-11, 'black': 4.4615321738428453e-14, 'white': 99.99978542327881, 'middle eastern': 6.162058525660541e-05, 'latino hispanic': 0.00015309356058423873}, 'dominant_race': 'white'}]\n"
     ]
    },
    {
     "name": "stderr",
     "output_type": "stream",
     "text": [
      "\n"
     ]
    }
   ],
   "source": [
    "\n",
    "# # Один из простых тестов распознавания лица\n",
    "# result = DeepFace.analyze(\"/home/ekaterina/myvenv/data/nokate.jpg\")\n",
    "\n",
    "# print(result)"
   ]
  },
  {
   "cell_type": "code",
   "execution_count": 24,
   "id": "a14d7b76",
   "metadata": {},
   "outputs": [],
   "source": [
    "result = DeepFace.verify(\"/home/ekaterina/myvenv/data/b.jpg\", \"/home/ekaterina/myvenv/data/b2.jpg\")"
   ]
  },
  {
   "cell_type": "code",
   "execution_count": 25,
   "id": "23d90fd5",
   "metadata": {},
   "outputs": [
    {
     "data": {
      "text/plain": [
       "{'verified': True,\n",
       " 'distance': 0.05809244061551133,\n",
       " 'threshold': 0.68,\n",
       " 'model': 'VGG-Face',\n",
       " 'detector_backend': 'opencv',\n",
       " 'similarity_metric': 'cosine',\n",
       " 'facial_areas': {'img1': {'x': 415,\n",
       "   'y': 192,\n",
       "   'w': 422,\n",
       "   'h': 422,\n",
       "   'left_eye': (711, 362),\n",
       "   'right_eye': (550, 342)},\n",
       "  'img2': {'x': 387,\n",
       "   'y': 234,\n",
       "   'w': 420,\n",
       "   'h': 420,\n",
       "   'left_eye': (685, 401),\n",
       "   'right_eye': (525, 382)}},\n",
       " 'time': 2.55}"
      ]
     },
     "execution_count": 25,
     "metadata": {},
     "output_type": "execute_result"
    }
   ],
   "source": [
    "result"
   ]
  },
  {
   "cell_type": "code",
   "execution_count": 26,
   "id": "581a142a",
   "metadata": {},
   "outputs": [],
   "source": [
    "verified = result['verified']"
   ]
  },
  {
   "cell_type": "code",
   "execution_count": 27,
   "id": "d91f1f7a",
   "metadata": {},
   "outputs": [
    {
     "name": "stdout",
     "output_type": "stream",
     "text": [
      "True\n"
     ]
    }
   ],
   "source": [
    "print(verified)"
   ]
  },
  {
   "cell_type": "code",
   "execution_count": null,
   "id": "a69f940d",
   "metadata": {},
   "outputs": [],
   "source": []
  }
 ],
 "metadata": {
  "kernelspec": {
   "display_name": "Python 3 (ipykernel)",
   "language": "python",
   "name": "python3"
  },
  "language_info": {
   "codemirror_mode": {
    "name": "ipython",
    "version": 3
   },
   "file_extension": ".py",
   "mimetype": "text/x-python",
   "name": "python",
   "nbconvert_exporter": "python",
   "pygments_lexer": "ipython3",
   "version": "3.10.6"
  }
 },
 "nbformat": 4,
 "nbformat_minor": 5
}
